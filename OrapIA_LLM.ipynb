{
  "nbformat": 4,
  "nbformat_minor": 0,
  "metadata": {
    "colab": {
      "provenance": [],
      "gpuType": "T4",
      "authorship_tag": "ABX9TyOQ/gdNwBcDxUYy5F03kiRf",
      "include_colab_link": true
    },
    "kernelspec": {
      "name": "python3",
      "display_name": "Python 3"
    },
    "language_info": {
      "name": "python"
    },
    "accelerator": "GPU"
  },
  "cells": [
    {
      "cell_type": "markdown",
      "metadata": {
        "id": "view-in-github",
        "colab_type": "text"
      },
      "source": [
        "<a href=\"https://colab.research.google.com/github/jeremyindelicato/Orapi_LLM_fire-tune/blob/main/OrapIA_LLM.ipynb\" target=\"_parent\"><img src=\"https://colab.research.google.com/assets/colab-badge.svg\" alt=\"Open In Colab\"/></a>"
      ]
    },
    {
      "cell_type": "markdown",
      "source": [
        "1ère étape : Installation des bibliothèques nécessaires 🤗"
      ],
      "metadata": {
        "id": "CrcYVKKCwlox"
      }
    },
    {
      "cell_type": "code",
      "execution_count": null,
      "metadata": {
        "id": "EvVzonLufe-P",
        "collapsed": true
      },
      "outputs": [],
      "source": [
        "!pip uninstall -y transformers datasets\n",
        "!pip install transformers datasets"
      ]
    },
    {
      "cell_type": "markdown",
      "source": [
        "2ème étape : Importation des bibliothèques 📚"
      ],
      "metadata": {
        "id": "nfZIkubOw2eB"
      }
    },
    {
      "cell_type": "code",
      "source": [
        "import pandas as pd\n",
        "from transformers import BertTokenizer, BertForQuestionAnswering, TrainingArguments, Trainer\n",
        "from datasets import Dataset, load_dataset\n",
        "import torch\n",
        "from torch.utils.data import DataLoader\n",
        "from torch.optim import AdamW\n",
        "from transformers import Trainer"
      ],
      "metadata": {
        "id": "dNTG0piMxppR"
      },
      "execution_count": null,
      "outputs": []
    },
    {
      "cell_type": "markdown",
      "source": [
        "3ème étape :  Chargement et Préparation des Données 📁"
      ],
      "metadata": {
        "id": "X_9JzMVWxr9K"
      }
    },
    {
      "cell_type": "code",
      "source": [
        "data = pd.read_csv('/content/data_set_products_clean_ORAPI_M3.csv', sep=';', on_bad_lines='skip', engine=\"python\")\n",
        "\n",
        "print(data.head())\n",
        "\n",
        "# Convertir le DataFrame pandas en un Dataset Hugging Face\n",
        "dataset = Dataset.from_pandas(data)"
      ],
      "metadata": {
        "id": "Gxy0ehFLzJYD"
      },
      "execution_count": null,
      "outputs": []
    },
    {
      "cell_type": "markdown",
      "source": [
        "4ème étape: Tokenisation des Données ⚗️"
      ],
      "metadata": {
        "id": "QQG2cV0x1U5L"
      }
    },
    {
      "cell_type": "code",
      "source": [
        "# Charger le tokenizer BERT\n",
        "tokenizer = BertTokenizer.from_pretrained('bert-base-uncased')\n",
        "\n",
        "dataset = Dataset.from_pandas(data)  # Convert the DataFrame to a Dataset object\n",
        "\n",
        "# Fonction de tokenisation\n",
        "def tokenize_function(examples):\n",
        "    return tokenizer(examples['Fonction du produit francais'], padding='max_length', truncation=True)\n",
        "\n",
        "# Appliquer la tokenisation au dataset\n",
        "tokenized_datasets = dataset.map(tokenize_function, batched=True)"
      ],
      "metadata": {
        "id": "-XFFS2KZ178x"
      },
      "execution_count": null,
      "outputs": []
    },
    {
      "cell_type": "markdown",
      "source": [
        "5ème étape : Chargement du modèle pré-entraîné 🤖"
      ],
      "metadata": {
        "id": "b6n1MFV02Ana"
      }
    },
    {
      "cell_type": "code",
      "source": [
        "# Charger un modèle BERT pré-entraîné pour la tâche de question-réponse\n",
        "model = BertForQuestionAnswering.from_pretrained('bert-large-uncased-whole-word-masking-finetuned-squad')"
      ],
      "metadata": {
        "id": "9gvyHlPw2Sqh"
      },
      "execution_count": null,
      "outputs": []
    },
    {
      "cell_type": "markdown",
      "source": [
        "6ème étape : Configuration des paramètres d'entraînement 🏋️"
      ],
      "metadata": {
        "id": "hmxkc3do2YRJ"
      }
    },
    {
      "cell_type": "code",
      "source": [
        "# Définir les arguments d'entraînement\n",
        "training_args = TrainingArguments(\n",
        "    output_dir='./results',\n",
        "    evaluation_strategy=\"epoch\",\n",
        "    learning_rate=2e-5,\n",
        "    per_device_train_batch_size=8,\n",
        "    per_device_eval_batch_size=8,\n",
        "    num_train_epochs=3,\n",
        "    weight_decay=0.01,\n",
        ")"
      ],
      "metadata": {
        "id": "KPntDXvj2kN4"
      },
      "execution_count": null,
      "outputs": []
    },
    {
      "cell_type": "markdown",
      "source": [
        "7ème étape : Création & Initialisation du trainer 🤏"
      ],
      "metadata": {
        "id": "QXAGFdxb2orR"
      }
    },
    {
      "cell_type": "code",
      "source": [
        "class CustomTrainer(Trainer):\n",
        "    def compute_loss(self, model, inputs, return_outputs=False, num_items_in_batch=None):\n",
        "        \"\"\"\n",
        "        Calcule la perte pour la tâche de question-réponse.\n",
        "        \"\"\"\n",
        "        # Effectuer un passage avant à travers le modèle\n",
        "        outputs = model(**inputs)\n",
        "\n",
        "        # Extraire les logits de début et de fin\n",
        "        start_logits = outputs.start_logits\n",
        "        end_logits = outputs.end_logits\n",
        "\n",
        "        # Extraire les positions de début et de fin des labels\n",
        "        start_positions = inputs.pop(\"start_positions\")\n",
        "        end_positions = inputs.pop(\"end_positions\")\n",
        "\n",
        "        # Calculer la perte de question-réponse en utilisant CrossEntropyLoss\n",
        "        loss_fct = torch.nn.CrossEntropyLoss()\n",
        "        start_loss = loss_fct(start_logits.view(-1, start_logits.size(-1)), start_positions.view(-1))\n",
        "        end_loss = loss_fct(end_logits.view(-1, end_logits.size(-1)), end_positions.view(-1))\n",
        "        total_loss = (start_loss + end_loss) / 2\n",
        "\n",
        "        return (total_loss, outputs) if return_outputs else total_loss\n",
        "\n",
        "# Instanciation du CustomTrainer\n",
        "trainer = CustomTrainer(\n",
        "    model=model,\n",
        "    args=training_args,\n",
        "    train_dataset=tokenized_datasets,\n",
        "    eval_dataset=tokenized_datasets,\n",
        ")"
      ],
      "metadata": {
        "id": "SV8ZCzvV3AiS"
      },
      "execution_count": null,
      "outputs": []
    },
    {
      "cell_type": "markdown",
      "source": [
        "8ème étape : Lancement de l'entrainement 🏁"
      ],
      "metadata": {
        "id": "hX3UaBAV3EPa"
      }
    },
    {
      "cell_type": "code",
      "source": [
        "trainer.train()"
      ],
      "metadata": {
        "id": "rrKzl5cS3d8T"
      },
      "execution_count": null,
      "outputs": []
    },
    {
      "cell_type": "markdown",
      "source": [
        "9ème étape : Évaluation du modèle ⭐"
      ],
      "metadata": {
        "id": "rWpenaM73qEp"
      }
    },
    {
      "cell_type": "code",
      "source": [
        "eval_results = trainer.evaluate()\n",
        "print(f\"Evaluation results: {eval_results}\")"
      ],
      "metadata": {
        "id": "9rqubIGr320C"
      },
      "execution_count": null,
      "outputs": []
    },
    {
      "cell_type": "markdown",
      "source": [
        "10ème étape : Sauvegarde du modèle 💾"
      ],
      "metadata": {
        "id": "QdgYXLVD4Byr"
      }
    },
    {
      "cell_type": "code",
      "source": [
        "model.save_pretrained('./fine_tuned_model')\n",
        "tokenizer.save_pretrained('./fine_tuned_model')"
      ],
      "metadata": {
        "id": "13ENuxSI4IS6"
      },
      "execution_count": null,
      "outputs": []
    },
    {
      "cell_type": "markdown",
      "source": [
        "11ème étape : Utilisation du modèle pour répondre aux questions 💬"
      ],
      "metadata": {
        "id": "f6GSWH8G4MH6"
      }
    },
    {
      "cell_type": "code",
      "source": [
        "# Fonction pour poser une question au modèle\n",
        "def answer_question(question, context):\n",
        "    inputs = tokenizer(question, context, return_tensors='pt')\n",
        "    with torch.no_grad():\n",
        "        outputs = model(**inputs)\n",
        "    answer_start_scores = outputs.start_logits\n",
        "    answer_end_scores = outputs.end_logits\n",
        "\n",
        "    # Obtenir la réponse\n",
        "    answer_start = torch.argmax(answer_start_scores)\n",
        "    answer_end = torch.argmax(answer_end_scores) + 1\n",
        "\n",
        "    answer = tokenizer.convert_tokens_to_string(\n",
        "        tokenizer.convert_ids_to_tokens(inputs['input_ids'][0][answer_start:answer_end]))\n",
        "    return answer\n",
        "\n",
        "# Exemple d'utilisation\n",
        "context = data['Fonction du produit francais'][0]  # Prenez une description de produit\n",
        "question = \"Quel produit est adapté pour le nettoyage des machines industrielles ?\"\n",
        "print(answer_question(question, context))"
      ],
      "metadata": {
        "id": "3SB3t_Jz4XKx"
      },
      "execution_count": null,
      "outputs": []
    }
  ]
}